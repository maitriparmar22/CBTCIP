{
 "cells": [
  {
   "cell_type": "code",
   "execution_count": 1,
   "id": "97e44608",
   "metadata": {},
   "outputs": [
    {
     "name": "stdout",
     "output_type": "stream",
     "text": [
      "Logistic Regression Accuracy: 100.00%\n",
      "KNN Accuracy: 100.00%\n",
      "Decision Tree Accuracy: 100.00%\n"
     ]
    }
   ],
   "source": [
    "import pandas as pd\n",
    "from sklearn.model_selection import train_test_split\n",
    "from sklearn.linear_model import LogisticRegression\n",
    "from sklearn.neighbors import KNeighborsClassifier\n",
    "from sklearn.tree import DecisionTreeClassifier\n",
    "from sklearn.preprocessing import LabelEncoder\n",
    "\n",
    "# Load the dataset\n",
    "df = pd.read_csv(\"Iris Flower.csv.csv\")\n",
    "\n",
    "# Convert the 'Species' column to a numerical representation\n",
    "df['Species'] = df['Species'].astype('category').cat.codes\n",
    "\n",
    "# Define features and labels\n",
    "X = df.drop(columns=['Species'])\n",
    "Y = df['Species']\n",
    "\n",
    "# Split the data into training and testing sets\n",
    "X_train, X_test, Y_train, Y_test = train_test_split(X, Y, test_size=0.30, random_state=42)\n",
    "\n",
    "# Initialize the models\n",
    "logistic_model = LogisticRegression(solver='lbfgs', max_iter=1000)\n",
    "knn_model = KNeighborsClassifier()\n",
    "decision_tree_model = DecisionTreeClassifier()\n",
    "\n",
    "# Train the models\n",
    "logistic_model.fit(X_train, Y_train)\n",
    "knn_model.fit(X_train, Y_train)\n",
    "decision_tree_model.fit(X_train, Y_train)\n",
    "\n",
    "# Evaluate the models\n",
    "logistic_accuracy = logistic_model.score(X_test, Y_test) * 100\n",
    "knn_accuracy = knn_model.score(X_test, Y_test) * 100\n",
    "decision_tree_accuracy = decision_tree_model.score(X_test, Y_test) * 100\n",
    "\n",
    "# Print the accuracies\n",
    "print(f'Logistic Regression Accuracy: {logistic_accuracy:.2f}%')\n",
    "print(f'KNN Accuracy: {knn_accuracy:.2f}%')\n",
    "print(f'Decision Tree Accuracy: {decision_tree_accuracy:.2f}%')\n"
   ]
  }
 ],
 "metadata": {
  "kernelspec": {
   "display_name": "Python 3 (ipykernel)",
   "language": "python",
   "name": "python3"
  },
  "language_info": {
   "codemirror_mode": {
    "name": "ipython",
    "version": 3
   },
   "file_extension": ".py",
   "mimetype": "text/x-python",
   "name": "python",
   "nbconvert_exporter": "python",
   "pygments_lexer": "ipython3",
   "version": "3.11.4"
  }
 },
 "nbformat": 4,
 "nbformat_minor": 5
}
